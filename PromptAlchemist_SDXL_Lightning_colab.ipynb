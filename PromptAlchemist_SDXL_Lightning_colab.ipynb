{
  "nbformat": 4,
  "nbformat_minor": 0,
  "metadata": {
    "colab": {
      "provenance": [],
      "machine_shape": "hm",
      "gpuType": "T4",
      "authorship_tag": "ABX9TyMshS4mQaSaSvY/zJoxb8Ep",
      "include_colab_link": true
    },
    "kernelspec": {
      "name": "python3",
      "display_name": "Python 3"
    },
    "language_info": {
      "name": "python"
    },
    "accelerator": "GPU",
    "widgets": {
      "application/vnd.jupyter.widget-state+json": {
        "3568b6df3e454e1b88562369834c91f8": {
          "model_module": "@jupyter-widgets/controls",
          "model_name": "ButtonModel",
          "model_module_version": "1.5.0",
          "state": {
            "_dom_classes": [],
            "_model_module": "@jupyter-widgets/controls",
            "_model_module_version": "1.5.0",
            "_model_name": "ButtonModel",
            "_view_count": null,
            "_view_module": "@jupyter-widgets/controls",
            "_view_module_version": "1.5.0",
            "_view_name": "ButtonView",
            "button_style": "success",
            "description": "✔ Done",
            "disabled": true,
            "icon": "",
            "layout": "IPY_MODEL_42d4cc8c4c9f44dd89bc2928c8fe00af",
            "style": "IPY_MODEL_85b170b041b4478ebf4d871b8737ae8f",
            "tooltip": ""
          }
        },
        "42d4cc8c4c9f44dd89bc2928c8fe00af": {
          "model_module": "@jupyter-widgets/base",
          "model_name": "LayoutModel",
          "model_module_version": "1.2.0",
          "state": {
            "_model_module": "@jupyter-widgets/base",
            "_model_module_version": "1.2.0",
            "_model_name": "LayoutModel",
            "_view_count": null,
            "_view_module": "@jupyter-widgets/base",
            "_view_module_version": "1.2.0",
            "_view_name": "LayoutView",
            "align_content": null,
            "align_items": null,
            "align_self": null,
            "border": null,
            "bottom": null,
            "display": null,
            "flex": null,
            "flex_flow": null,
            "grid_area": null,
            "grid_auto_columns": null,
            "grid_auto_flow": null,
            "grid_auto_rows": null,
            "grid_column": null,
            "grid_gap": null,
            "grid_row": null,
            "grid_template_areas": null,
            "grid_template_columns": null,
            "grid_template_rows": null,
            "height": null,
            "justify_content": null,
            "justify_items": null,
            "left": null,
            "margin": null,
            "max_height": null,
            "max_width": null,
            "min_height": null,
            "min_width": "50px",
            "object_fit": null,
            "object_position": null,
            "order": null,
            "overflow": null,
            "overflow_x": null,
            "overflow_y": null,
            "padding": null,
            "right": null,
            "top": null,
            "visibility": null,
            "width": null
          }
        },
        "85b170b041b4478ebf4d871b8737ae8f": {
          "model_module": "@jupyter-widgets/controls",
          "model_name": "ButtonStyleModel",
          "model_module_version": "1.5.0",
          "state": {
            "_model_module": "@jupyter-widgets/controls",
            "_model_module_version": "1.5.0",
            "_model_name": "ButtonStyleModel",
            "_view_count": null,
            "_view_module": "@jupyter-widgets/base",
            "_view_module_version": "1.2.0",
            "_view_name": "StyleView",
            "button_color": null,
            "font_weight": ""
          }
        }
      }
    }
  },
  "cells": [
    {
      "cell_type": "markdown",
      "metadata": {
        "id": "view-in-github",
        "colab_type": "text"
      },
      "source": [
        "<a href=\"https://colab.research.google.com/github/poomshift/PromptAlchemist_SDXL_Lightning_colab/blob/main/PromptAlchemist_SDXL_Lightning_colab.ipynb\" target=\"_parent\"><img src=\"https://colab.research.google.com/assets/colab-badge.svg\" alt=\"Open In Colab\"/></a>"
      ]
    },
    {
      "cell_type": "markdown",
      "source": [
        "Colab Notebook นี้สร้างเพื่อใช้งาน SDXL-Lightning อย่างรวดเร็ว\n",
        "\n",
        "ใช้เวลา generate ประมาณ 5-6 วินาที ด้วยขนาดภาพ 1024x1024\n",
        "\n",
        "**Google Colab Free ก็ใช้งานได้!!**\n",
        "\n",
        "เป็นอีกหนึ่งโปรเจคที่ผมทดลองใช้ Google's Gemini ในการช่วยเขียน App\n",
        "\n",
        "ติดตามอัพเดทเกี่ยวกับเทคโนโลยี Ai ที่ [Facebook/promptalchemist](https://facebook.com/PromptAlchemist)\n",
        "\n",
        "Colab สำหรับ Stable Diffusion WebUI [>>คลิก<<](https://colab.research.google.com/github/poomshift/PromptAlchemist_SD_Webui_Colab/blob/main/PromptAlchemist_SD_Webui_Colab.ipynb#scrollTo=1F-zYI2-Uo0a)"
      ],
      "metadata": {
        "id": "Jo5i4xZJ1bgw"
      }
    },
    {
      "cell_type": "code",
      "source": [
        "#@markdown # 1. ติดตั้ง Dependencies ก่อน\n",
        "from IPython.display import clear_output\n",
        "from IPython.display import Javascript\n",
        "import ipywidgets as widgets\n",
        "display(Javascript('''google.colab.output.setIframeHeight(0, true, {maxHeight: 200})'''))\n",
        "def inf(msg, style, wdth): inf = widgets.Button(description=msg, disabled=True, button_style=style, layout=widgets.Layout(min_width=wdth));display(inf)\n",
        "\n",
        "%env TF_CPP_MIN_LOG_LEVEL=1\n",
        "!wget https://github.com/camenduru/gperftools/releases/download/v1.0/libtcmalloc_minimal.so.4 -O /content/libtcmalloc_minimal.so.4\n",
        "%env LD_PRELOAD=/content/libtcmalloc_minimal.so.4\n",
        "!pip install gradio diffusers accelerate torch huggingface_hub\n",
        "\n",
        "clear_output()\n",
        "inf('\\u2714 Done','success', '50px')"
      ],
      "metadata": {
        "cellView": "form",
        "id": "UZQf8X6KGmEJ",
        "outputId": "18ba1165-3675-4e4e-c277-323fa709a604",
        "colab": {
          "base_uri": "https://localhost:8080/",
          "height": 49,
          "referenced_widgets": [
            "3568b6df3e454e1b88562369834c91f8",
            "42d4cc8c4c9f44dd89bc2928c8fe00af",
            "85b170b041b4478ebf4d871b8737ae8f"
          ]
        }
      },
      "execution_count": 1,
      "outputs": [
        {
          "output_type": "display_data",
          "data": {
            "text/plain": [
              "Button(button_style='success', description='✔ Done', disabled=True, layout=Layout(min_width='50px'), style=But…"
            ],
            "application/vnd.jupyter.widget-view+json": {
              "version_major": 2,
              "version_minor": 0,
              "model_id": "3568b6df3e454e1b88562369834c91f8"
            }
          },
          "metadata": {}
        }
      ]
    },
    {
      "cell_type": "code",
      "source": [
        "#@markdown # 2. Run โปรแกรม\n",
        "import gradio as gr\n",
        "import torch\n",
        "from diffusers import StableDiffusionXLPipeline, UNet2DConditionModel, EulerDiscreteScheduler\n",
        "from huggingface_hub import hf_hub_download\n",
        "from safetensors.torch import load_file\n",
        "from IPython.display import clear_output\n",
        "from IPython.display import Javascript\n",
        "display(Javascript('''google.colab.output.setIframeHeight(0, true, {maxHeight: 1000})'''))\n",
        "base = \"stabilityai/stable-diffusion-xl-base-1.0\"\n",
        "repo = \"ByteDance/SDXL-Lightning\"\n",
        "ckpt = \"sdxl_lightning_4step_unet.safetensors\"\n",
        "\n",
        "# Load model (this will be done once when the app starts).\n",
        "unet = UNet2DConditionModel.from_config(base, subfolder=\"unet\").to(\"cuda\", torch.float16)\n",
        "unet.load_state_dict(load_file(hf_hub_download(repo, ckpt), device=\"cuda\"))\n",
        "pipe = StableDiffusionXLPipeline.from_pretrained(base, unet=unet, torch_dtype=torch.float16, variant=\"fp16\").to(\"cuda\")\n",
        "pipe.scheduler = EulerDiscreteScheduler.from_config(pipe.scheduler.config, timestep_spacing=\"trailing\")\n",
        "clear_output()\n",
        "def generate_image(prompt, width, height, seed=None):\n",
        "  try:\n",
        "    if seed is not None:\n",
        "      torch.manual_seed(seed)\n",
        "    image = pipe(\n",
        "       prompt=prompt,\n",
        "       negative_prompt=negative_prompt,\n",
        "       width=width,\n",
        "       height=height,\n",
        "       num_inference_steps=4,\n",
        "       guidance_scale=0\n",
        "     ).images[0]\n",
        "    return image\n",
        "  except Exception as e:\n",
        "    return f\"Error: {e}\"\n",
        "\n",
        "interface = gr.Interface(\n",
        "  fn=generate_image,\n",
        "  inputs=[\n",
        "    gr.Textbox(label=\"Text Prompt\"),\n",
        "    gr.Number(label=\"Width\", value=1024),\n",
        "    gr.Number(label=\"Height\", value=1024),\n",
        "    gr.Number(label=\"Seed (optional) ปล่อยว่างไว้เพื่อสุ่มภาพ | ใส่เลขเพื่อให้เป็นภาพเดิม\"),\n",
        "  ],\n",
        "  outputs=\"image\",\n",
        "  title=\"SDXL Lightning | facebook.com/PromptAlchemist\",\n",
        "  description=\"เขียนพรอมต์ตามต้องการ เช่น A cat running in park | ขนาดภาพที่แนะนำ 1024x1024 1152x768 768x1152\"\n",
        ")\n",
        "interface.launch()"
      ],
      "metadata": {
        "cellView": "form",
        "id": "SOHgUwsZlbex"
      },
      "execution_count": null,
      "outputs": []
    }
  ]
}