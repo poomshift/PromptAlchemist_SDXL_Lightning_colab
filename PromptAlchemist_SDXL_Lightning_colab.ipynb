{
  "nbformat": 4,
  "nbformat_minor": 0,
  "metadata": {
    "colab": {
      "provenance": [],
      "machine_shape": "hm",
      "gpuType": "T4",
      "authorship_tag": "ABX9TyOXbDWzRxSHtvNt7j2vbLzb",
      "include_colab_link": true
    },
    "kernelspec": {
      "name": "python3",
      "display_name": "Python 3"
    },
    "language_info": {
      "name": "python"
    },
    "accelerator": "GPU"
  },
  "cells": [
    {
      "cell_type": "markdown",
      "metadata": {
        "id": "view-in-github",
        "colab_type": "text"
      },
      "source": [
        "<a href=\"https://colab.research.google.com/github/poomshift/PromptAlchemist_SDXL_Lightning_colab/blob/main/PromptAlchemist_SDXL_Lightning_colab.ipynb\" target=\"_parent\"><img src=\"https://colab.research.google.com/assets/colab-badge.svg\" alt=\"Open In Colab\"/></a>"
      ]
    },
    {
      "cell_type": "markdown",
      "source": [
        "Colab Notebook นี้สร้างเพื่อใช้งาน SDXL-Lightning อย่างรวดเร็ว\n",
        "\n",
        "ใช้เวลา generate ประมาณ 5-6 วินาที ด้วยขนาดภาพ 1024x1024\n",
        "\n",
        "**Google Colab Free ก็ใช้งานได้!!**\n",
        "\n",
        "เป็นอีกหนึ่งโปรเจคที่ผมทดลองใช้ Google's Gemini ในการช่วยเขียน App\n",
        "\n",
        "ติดตามอัพเดทเกี่ยวกับเทคโนโลยี Ai ที่ [Facebook/promptalchemist](https://facebook.com/PromptAlchemist)\n",
        "\n",
        "Colab สำหรับ Stable Diffusion WebUI [>>คลิก<<](https://colab.research.google.com/github/poomshift/PromptAlchemist_SD_Webui_Colab/blob/main/PromptAlchemist_SD_Webui_Colab.ipynb#scrollTo=1F-zYI2-Uo0a)"
      ],
      "metadata": {
        "id": "Jo5i4xZJ1bgw"
      }
    },
    {
      "cell_type": "code",
      "source": [
        "#@markdown # 1. ติดตั้ง Dependencies ก่อน\n",
        "from IPython.display import clear_output\n",
        "from IPython.display import Javascript\n",
        "import ipywidgets as widgets\n",
        "display(Javascript('''google.colab.output.setIframeHeight(0, true, {maxHeight: 200})'''))\n",
        "def inf(msg, style, wdth): inf = widgets.Button(description=msg, disabled=True, button_style=style, layout=widgets.Layout(min_width=wdth));display(inf)\n",
        "\n",
        "%env TF_CPP_MIN_LOG_LEVEL=1\n",
        "!wget https://github.com/camenduru/gperftools/releases/download/v1.0/libtcmalloc_minimal.so.4 -O /content/libtcmalloc_minimal.so.4\n",
        "%env LD_PRELOAD=/content/libtcmalloc_minimal.so.4\n",
        "!pip install gradio diffusers accelerate torch huggingface_hub\n",
        "\n",
        "clear_output()\n",
        "inf('\\u2714 Done','success', '50px')"
      ],
      "metadata": {
        "cellView": "form",
        "id": "UZQf8X6KGmEJ"
      },
      "execution_count": null,
      "outputs": []
    },
    {
      "cell_type": "code",
      "source": [
        "#@markdown # 2. Run โปรแกรม\n",
        "import gradio as gr\n",
        "import torch\n",
        "from diffusers import StableDiffusionXLPipeline, UNet2DConditionModel, EulerDiscreteScheduler\n",
        "from huggingface_hub import hf_hub_download\n",
        "from safetensors.torch import load_file\n",
        "from IPython.display import clear_output\n",
        "from IPython.display import Javascript\n",
        "\n",
        "base = \"stabilityai/stable-diffusion-xl-base-1.0\"\n",
        "repo = \"ByteDance/SDXL-Lightning\"\n",
        "ckpt = \"sdxl_lightning_4step_unet.safetensors\"\n",
        "\n",
        "# Load model (this will be done once when the app starts).\n",
        "unet = UNet2DConditionModel.from_config(base, subfolder=\"unet\").to(\"cuda\", torch.float16)\n",
        "unet.load_state_dict(load_file(hf_hub_download(repo, ckpt), device=\"cuda\"))\n",
        "pipe = StableDiffusionXLPipeline.from_pretrained(base, unet=unet, torch_dtype=torch.float16, variant=\"fp16\").to(\"cuda\")\n",
        "pipe.scheduler = EulerDiscreteScheduler.from_config(pipe.scheduler.config, timestep_spacing=\"trailing\")\n",
        "clear_output()\n",
        "def generate_image(prompt):\n",
        "    try:\n",
        "        image = pipe(prompt, num_inference_steps=4, guidance_scale=0).images[0]\n",
        "        return image\n",
        "    except Exception as e:\n",
        "        return f\"Error: {e}\"\n",
        "\n",
        "interface = gr.Interface(\n",
        "  fn=generate_image,\n",
        "  inputs = [\n",
        "    gr.Textbox(label=\"Text Prompt\"),],\n",
        "  outputs=\"image\",\n",
        "  title=\"SDXL Lightning | facebook.com/PromptAlchemist\",\n",
        "  description=\"เขียนพรอมต์ตามต้องการ เช่น A cat running in park \",\n",
        ")\n",
        "interface.launch()"
      ],
      "metadata": {
        "cellView": "form",
        "id": "SOHgUwsZlbex"
      },
      "execution_count": null,
      "outputs": []
    }
  ]
}